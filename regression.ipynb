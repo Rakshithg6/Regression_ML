{
  "nbformat": 4,
  "nbformat_minor": 0,
  "metadata": {
    "colab": {
      "provenance": [],
      "authorship_tag": "ABX9TyMNEZHWpVli6phcsSg5effv",
      "include_colab_link": true
    },
    "kernelspec": {
      "name": "python3",
      "display_name": "Python 3"
    },
    "language_info": {
      "name": "python"
    }
  },
  "cells": [
    {
      "cell_type": "markdown",
      "metadata": {
        "id": "view-in-github",
        "colab_type": "text"
      },
      "source": [
        "<a href=\"https://colab.research.google.com/github/Rakshithg6/Regression_ML/blob/main/regression.ipynb\" target=\"_parent\"><img src=\"https://colab.research.google.com/assets/colab-badge.svg\" alt=\"Open In Colab\"/></a>"
      ]
    },
    {
      "cell_type": "markdown",
      "source": [
        "Linear Regression is a Regression which will béplot in linear form as a  straight line"
      ],
      "metadata": {
        "id": "7cK03j7rTSQV"
      }
    },
    {
      "cell_type": "code",
      "execution_count": null,
      "metadata": {
        "colab": {
          "base_uri": "https://localhost:8080/",
          "height": 470
        },
        "id": "dWOED0S8EoTk",
        "outputId": "546c429d-c4bd-4c8a-a7bf-f43f05c13dbb"
      },
      "outputs": [
        {
          "output_type": "stream",
          "name": "stdout",
          "text": [
            "predicted value:\n",
            " [[7.6]\n",
            " [7.4]\n",
            " [7.2]\n",
            " [7. ]\n",
            " [7.8]]\n",
            "\n",
            "coefficient: [[-0.1]]\n",
            "intercept: [7.8]\n"
          ]
        },
        {
          "output_type": "display_data",
          "data": {
            "text/plain": [
              "<Figure size 600x300 with 1 Axes>"
            ],
            "image/png": "[encoded data removed]"
          },
          "metadata": {}
        }
      ],
      "source": [
        "from sklearn.linear_model import LinearRegression\n",
        "import matplotlib.pyplot as plt\n",
        "X=[2,4,6,8,0]\n",
        "y=[3,7,5,10,12]\n",
        "X=[[x] for x in X]\n",
        "y=[[val] for val in y]\n",
        "model=LinearRegression()\n",
        "model.fit(X,y)\n",
        "y_pred=model.predict(X)\n",
        "print('predicted value:\\n',y_pred)\n",
        "print('\\ncoefficient:',model.coef_)\n",
        "print('intercept:',model.intercept_)\n",
        "plt.figure(figsize=(6,3))\n",
        "plt.scatter(X,y,color='black')\n",
        "plt.plot(X,y_pred,color='blue')\n",
        "plt.plot('X')\n",
        "plt.ylabel('y')\n",
        "plt.title('Linear Regression')\n",
        "plt.show()\n"
      ]
    },
    {
      "cell_type": "markdown",
      "source": [
        "Loss of linear Regression"
      ],
      "metadata": {
        "id": "yGEyS-_ITcQI"
      }
    },
    {
      "cell_type": "code",
      "source": [
        "from sklearn import metrics\n",
        "from sklearn.metrics import mean_squared_error\n",
        "from sklearn.metrics import mean_absolute_error\n",
        "import numpy as np\n",
        "\n",
        "print('Mean square error:',mean_squared_error(y,y_pred))\n",
        "print('Root Mean square error:',np.sqrt(mean_squared_error(y,y_pred)))\n",
        "print('mean absolute error:',mean_absolute_error(y,y_pred))\n"
      ],
      "metadata": {
        "colab": {
          "base_uri": "https://localhost:8080/"
        },
        "id": "Sf0whKnINaNP",
        "outputId": "7c159b34-d762-4114-89e0-eefb6b6ec81e"
      },
      "execution_count": null,
      "outputs": [
        {
          "output_type": "stream",
          "name": "stdout",
          "text": [
            "Mean square error: 2.175\n",
            "Root Mean square error: 1.4747881203752624\n",
            "mean absolute error: 1.2999999999999998\n"
          ]
        }
      ]
    },
    {
      "cell_type": "code",
      "source": [
        "!pip install scikit-learn\n"
      ],
      "metadata": {
        "colab": {
          "base_uri": "https://localhost:8080/"
        },
        "id": "jZTDqCqrWK1l",
        "outputId": "1bb09f34-117d-41e5-fd73-34e06789b4af"
      },
      "execution_count": null,
      "outputs": [
        {
          "output_type": "stream",
          "name": "stdout",
          "text": [
            "Requirement already satisfied: scikit-learn in /usr/local/lib/python3.10/dist-packages (1.2.2)\n",
            "Requirement already satisfied: numpy>=1.17.3 in /usr/local/lib/python3.10/dist-packages (from scikit-learn) (1.23.5)\n",
            "Requirement already satisfied: scipy>=1.3.2 in /usr/local/lib/python3.10/dist-packages (from scikit-learn) (1.11.4)\n",
            "Requirement already satisfied: joblib>=1.1.1 in /usr/local/lib/python3.10/dist-packages (from scikit-learn) (1.3.2)\n",
            "Requirement already satisfied: threadpoolctl>=2.0.0 in /usr/local/lib/python3.10/dist-packages (from scikit-learn) (3.2.0)\n"
          ]
        }
      ]
    },
    {
      "cell_type": "markdown",
      "source": [
        "Polynomial Regression"
      ],
      "metadata": {
        "id": "_FTFtFK-TjYk"
      }
    },
    {
      "cell_type": "code",
      "source": [
        "import numpy as np\n",
        "from sklearn.linear_model import LinearRegression\n",
        "from sklearn.preprocessing import PolynomialFeatures\n",
        "import matplotlib.pyplot as plt\n",
        "X=[3,4,5,6,7]\n",
        "y=[2.5,3.0,3.8,6.5,11.5]\n",
        "X=np.array(X).reshape(-1,1)\n",
        "y=np.array(y)\n",
        "poly=PolynomialFeatures(degree=2)\n",
        "X_poly=poly.fit_transform(X)\n",
        "model=LinearRegression()\n",
        "model.fit(X_poly,y)\n",
        "X_plot=np.linspace(min(X),max(X),100).reshape(-1,1)\n",
        "X_plot_poly=poly.transform(X_plot)\n",
        "y_pred=model.predict(X_plot_poly)\n",
        "print('\\ncoefficient:',model.coef_)\n",
        "print('intercept:',model.intercept_)\n",
        "plt.figure(figsize=(6,3))\n",
        "plt.scatter(X,y,color='black')\n",
        "plt.plot(X_plot,y_pred,color='blue')\n",
        "plt.plot('X')\n",
        "plt.ylabel('y')\n",
        "plt.title('quadratic polynomial Regression')\n",
        "plt.show()\n",
        "\n"
      ],
      "metadata": {
        "colab": {
          "base_uri": "https://localhost:8080/",
          "height": 366
        },
        "id": "2eBSAmtvSTyy",
        "outputId": "d6730667-c878-4199-d86e-090a7280e1fb"
      },
      "execution_count": null,
      "outputs": [
        {
          "output_type": "stream",
          "name": "stdout",
          "text": [
            "\n",
            "coefficient: [ 0.         -5.63571429  0.77857143]\n",
            "intercept: 12.617142857142785\n"
          ]
        },
        {
          "output_type": "display_data",
          "data": {
            "text/plain": [
              "<Figure size 600x300 with 1 Axes>"
            ],
            "image/png": "[encoded data removed]"
          },
          "metadata": {}
        }
      ]
    },
    {
      "cell_type": "code",
      "source": [],
      "metadata": {
        "id": "G4SumvmhXBLZ"
      },
      "execution_count": null,
      "outputs": []
    }
  ]
}